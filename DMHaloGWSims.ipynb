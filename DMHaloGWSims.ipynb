{
  "nbformat": 4,
  "nbformat_minor": 0,
  "metadata": {
    "colab": {
      "provenance": []
    },
    "kernelspec": {
      "name": "python3",
      "display_name": "Python 3"
    },
    "language_info": {
      "name": "python"
    }
  },
  "cells": [
    {
      "cell_type": "code",
      "execution_count": null,
      "metadata": {
        "colab": {
          "base_uri": "https://localhost:8080/"
        },
        "id": "a8PIxXVI88zQ",
        "outputId": "36c86c49-6503-40b6-d461-3b4931933fed"
      },
      "outputs": [
        {
          "output_type": "stream",
          "name": "stdout",
          "text": [
            "Looking in indexes: https://pypi.org/simple, https://us-python.pkg.dev/colab-wheels/public/simple/\n",
            "Collecting pycbc\n",
            "  Downloading PyCBC-2.2.0-cp310-cp310-manylinux_2_17_x86_64.manylinux2014_x86_64.whl (7.5 MB)\n",
            "\u001b[2K     \u001b[90m━━━━━━━━━━━━━━━━━━━━━━━━━━━━━━━━━━━━━━━━\u001b[0m \u001b[32m7.5/7.5 MB\u001b[0m \u001b[31m51.8 MB/s\u001b[0m eta \u001b[36m0:00:00\u001b[0m\n",
            "\u001b[?25hCollecting lalsuite\n",
            "  Downloading lalsuite-7.15-cp310-cp310-manylinux_2_28_x86_64.whl (57.6 MB)\n",
            "\u001b[2K     \u001b[90m━━━━━━━━━━━━━━━━━━━━━━━━━━━━━━━━━━━━━━━━\u001b[0m \u001b[32m57.6/57.6 MB\u001b[0m \u001b[31m13.3 MB/s\u001b[0m eta \u001b[36m0:00:00\u001b[0m\n",
            "\u001b[?25hCollecting ligo-common\n",
            "  Downloading ligo_common-1.0.3-py2.py3-none-any.whl (2.0 kB)\n",
            "Requirement already satisfied: numpy>=1.16.0 in /usr/local/lib/python3.10/dist-packages (from pycbc) (1.22.4)\n",
            "Requirement already satisfied: cython>=0.29 in /usr/local/lib/python3.10/dist-packages (from pycbc) (0.29.34)\n",
            "Requirement already satisfied: scipy>=0.16.0 in /usr/local/lib/python3.10/dist-packages (from pycbc) (1.10.1)\n",
            "Requirement already satisfied: astropy!=4.0.5,!=4.2.1,>=2.0.3 in /usr/local/lib/python3.10/dist-packages (from pycbc) (5.2.2)\n",
            "Requirement already satisfied: matplotlib>=1.5.1 in /usr/local/lib/python3.10/dist-packages (from pycbc) (3.7.1)\n",
            "Collecting mpld3>=0.3 (from pycbc)\n",
            "  Downloading mpld3-0.5.9-py3-none-any.whl (201 kB)\n",
            "\u001b[2K     \u001b[90m━━━━━━━━━━━━━━━━━━━━━━━━━━━━━━━━━━━━━━\u001b[0m \u001b[32m201.2/201.2 kB\u001b[0m \u001b[31m17.8 MB/s\u001b[0m eta \u001b[36m0:00:00\u001b[0m\n",
            "\u001b[?25hRequirement already satisfied: pillow in /usr/local/lib/python3.10/dist-packages (from pycbc) (8.4.0)\n",
            "Requirement already satisfied: h5py!=3.7.0,>=3.0.0 in /usr/local/lib/python3.10/dist-packages (from pycbc) (3.8.0)\n",
            "Requirement already satisfied: jinja2 in /usr/local/lib/python3.10/dist-packages (from pycbc) (3.1.2)\n",
            "Collecting Mako>=1.0.1 (from pycbc)\n",
            "  Downloading Mako-1.2.4-py3-none-any.whl (78 kB)\n",
            "\u001b[2K     \u001b[90m━━━━━━━━━━━━━━━━━━━━━━━━━━━━━━━━━━━━━━━━\u001b[0m \u001b[32m78.7/78.7 kB\u001b[0m \u001b[31m8.0 MB/s\u001b[0m eta \u001b[36m0:00:00\u001b[0m\n",
            "\u001b[?25hRequirement already satisfied: beautifulsoup4>=4.6.0 in /usr/local/lib/python3.10/dist-packages (from pycbc) (4.11.2)\n",
            "Requirement already satisfied: tqdm in /usr/local/lib/python3.10/dist-packages (from pycbc) (4.65.0)\n",
            "Requirement already satisfied: setuptools in /usr/local/lib/python3.10/dist-packages (from pycbc) (67.7.2)\n",
            "Collecting gwdatafind (from pycbc)\n",
            "  Downloading gwdatafind-1.1.3-py3-none-any.whl (45 kB)\n",
            "\u001b[2K     \u001b[90m━━━━━━━━━━━━━━━━━━━━━━━━━━━━━━━━━━━━━━━━\u001b[0m \u001b[32m45.4/45.4 kB\u001b[0m \u001b[31m4.2 MB/s\u001b[0m eta \u001b[36m0:00:00\u001b[0m\n",
            "\u001b[?25hCollecting pegasus-wms.api>=5.0.3 (from pycbc)\n",
            "  Downloading pegasus-wms.api-5.0.5.tar.gz (44 kB)\n",
            "\u001b[2K     \u001b[90m━━━━━━━━━━━━━━━━━━━━━━━━━━━━━━━━━━━━━━━━\u001b[0m \u001b[32m44.4/44.4 kB\u001b[0m \u001b[31m4.0 MB/s\u001b[0m eta \u001b[36m0:00:00\u001b[0m\n",
            "\u001b[?25h  Preparing metadata (setup.py) ... \u001b[?25l\u001b[?25hdone\n",
            "Collecting python-ligo-lw>=1.7.0 (from pycbc)\n",
            "  Downloading python-ligo-lw-1.8.3.tar.gz (2.3 MB)\n",
            "\u001b[2K     \u001b[90m━━━━━━━━━━━━━━━━━━━━━━━━━━━━━━━━━━━━━━━━\u001b[0m \u001b[32m2.3/2.3 MB\u001b[0m \u001b[31m83.4 MB/s\u001b[0m eta \u001b[36m0:00:00\u001b[0m\n",
            "\u001b[?25h  Preparing metadata (setup.py) ... \u001b[?25l\u001b[?25hdone\n",
            "Collecting ligo-segments (from pycbc)\n",
            "  Downloading ligo-segments-1.4.0.tar.gz (51 kB)\n",
            "\u001b[2K     \u001b[90m━━━━━━━━━━━━━━━━━━━━━━━━━━━━━━━━━━━━━━━━\u001b[0m \u001b[32m51.0/51.0 kB\u001b[0m \u001b[31m3.9 MB/s\u001b[0m eta \u001b[36m0:00:00\u001b[0m\n",
            "\u001b[?25h  Preparing metadata (setup.py) ... \u001b[?25l\u001b[?25hdone\n",
            "Collecting lscsoft-glue>=1.59.3 (from pycbc)\n",
            "  Downloading lscsoft-glue-3.0.1.tar.gz (1.4 MB)\n",
            "\u001b[2K     \u001b[90m━━━━━━━━━━━━━━━━━━━━━━━━━━━━━━━━━━━━━━━━\u001b[0m \u001b[32m1.4/1.4 MB\u001b[0m \u001b[31m76.1 MB/s\u001b[0m eta \u001b[36m0:00:00\u001b[0m\n",
            "\u001b[?25h  Installing build dependencies ... \u001b[?25l\u001b[?25hdone\n",
            "  Getting requirements to build wheel ... \u001b[?25l\u001b[?25hdone\n",
            "  Preparing metadata (pyproject.toml) ... \u001b[?25l\u001b[?25hdone\n",
            "Requirement already satisfied: python-dateutil in /usr/local/lib/python3.10/dist-packages (from lalsuite) (2.8.2)\n",
            "Requirement already satisfied: pyerfa>=2.0 in /usr/local/lib/python3.10/dist-packages (from astropy!=4.0.5,!=4.2.1,>=2.0.3->pycbc) (2.0.0.3)\n",
            "Requirement already satisfied: PyYAML>=3.13 in /usr/local/lib/python3.10/dist-packages (from astropy!=4.0.5,!=4.2.1,>=2.0.3->pycbc) (6.0)\n",
            "Requirement already satisfied: packaging>=19.0 in /usr/local/lib/python3.10/dist-packages (from astropy!=4.0.5,!=4.2.1,>=2.0.3->pycbc) (23.1)\n",
            "Requirement already satisfied: soupsieve>1.2 in /usr/local/lib/python3.10/dist-packages (from beautifulsoup4>=4.6.0->pycbc) (2.4.1)\n",
            "Collecting pyOpenSSL (from lscsoft-glue>=1.59.3->pycbc)\n",
            "  Downloading pyOpenSSL-23.1.1-py3-none-any.whl (57 kB)\n",
            "\u001b[2K     \u001b[90m━━━━━━━━━━━━━━━━━━━━━━━━━━━━━━━━━━━━━━━━\u001b[0m \u001b[32m57.9/57.9 kB\u001b[0m \u001b[31m6.2 MB/s\u001b[0m eta \u001b[36m0:00:00\u001b[0m\n",
            "\u001b[?25hCollecting pyRXP (from lscsoft-glue>=1.59.3->pycbc)\n",
            "  Downloading pyRXP-3.0.1-cp310-cp310-manylinux_2_12_x86_64.manylinux2010_x86_64.whl (298 kB)\n",
            "\u001b[2K     \u001b[90m━━━━━━━━━━━━━━━━━━━━━━━━━━━━━━━━━━━━━━\u001b[0m \u001b[32m298.1/298.1 kB\u001b[0m \u001b[31m23.7 MB/s\u001b[0m eta \u001b[36m0:00:00\u001b[0m\n",
            "\u001b[?25hRequirement already satisfied: six in /usr/local/lib/python3.10/dist-packages (from lscsoft-glue>=1.59.3->pycbc) (1.16.0)\n",
            "Requirement already satisfied: MarkupSafe>=0.9.2 in /usr/local/lib/python3.10/dist-packages (from Mako>=1.0.1->pycbc) (2.1.2)\n",
            "Requirement already satisfied: contourpy>=1.0.1 in /usr/local/lib/python3.10/dist-packages (from matplotlib>=1.5.1->pycbc) (1.0.7)\n",
            "Requirement already satisfied: cycler>=0.10 in /usr/local/lib/python3.10/dist-packages (from matplotlib>=1.5.1->pycbc) (0.11.0)\n",
            "Requirement already satisfied: fonttools>=4.22.0 in /usr/local/lib/python3.10/dist-packages (from matplotlib>=1.5.1->pycbc) (4.39.3)\n",
            "Requirement already satisfied: kiwisolver>=1.0.1 in /usr/local/lib/python3.10/dist-packages (from matplotlib>=1.5.1->pycbc) (1.4.4)\n",
            "Requirement already satisfied: pyparsing>=2.3.1 in /usr/local/lib/python3.10/dist-packages (from matplotlib>=1.5.1->pycbc) (3.0.9)\n",
            "Collecting pegasus-wms.common (from pegasus-wms.api>=5.0.3->pycbc)\n",
            "  Downloading pegasus-wms.common-5.0.5.tar.gz (41 kB)\n",
            "\u001b[2K     \u001b[90m━━━━━━━━━━━━━━━━━━━━━━━━━━━━━━━━━━━━━━━━\u001b[0m \u001b[32m41.2/41.2 kB\u001b[0m \u001b[31m4.0 MB/s\u001b[0m eta \u001b[36m0:00:00\u001b[0m\n",
            "\u001b[?25h  Preparing metadata (setup.py) ... \u001b[?25l\u001b[?25hdone\n",
            "Collecting igwn-auth-utils>=0.3.1 (from gwdatafind->pycbc)\n",
            "  Downloading igwn_auth_utils-0.4.0-py3-none-any.whl (22 kB)\n",
            "Requirement already satisfied: cryptography>=2.3 in /usr/local/lib/python3.10/dist-packages (from igwn-auth-utils>=0.3.1->gwdatafind->pycbc) (40.0.2)\n",
            "Requirement already satisfied: requests>=2.14 in /usr/local/lib/python3.10/dist-packages (from igwn-auth-utils>=0.3.1->gwdatafind->pycbc) (2.27.1)\n",
            "Collecting safe-netrc>=1.0.0 (from igwn-auth-utils>=0.3.1->gwdatafind->pycbc)\n",
            "  Downloading safe_netrc-1.0.1-py3-none-any.whl (10 kB)\n",
            "Collecting scitokens>=1.7.0 (from igwn-auth-utils>=0.3.1->gwdatafind->pycbc)\n",
            "  Downloading scitokens-1.7.4-py3-none-any.whl (27 kB)\n",
            "Requirement already satisfied: cffi>=1.12 in /usr/local/lib/python3.10/dist-packages (from cryptography>=2.3->igwn-auth-utils>=0.3.1->gwdatafind->pycbc) (1.15.1)\n",
            "Requirement already satisfied: urllib3<1.27,>=1.21.1 in /usr/local/lib/python3.10/dist-packages (from requests>=2.14->igwn-auth-utils>=0.3.1->gwdatafind->pycbc) (1.26.15)\n",
            "Requirement already satisfied: certifi>=2017.4.17 in /usr/local/lib/python3.10/dist-packages (from requests>=2.14->igwn-auth-utils>=0.3.1->gwdatafind->pycbc) (2022.12.7)\n",
            "Requirement already satisfied: charset-normalizer~=2.0.0 in /usr/local/lib/python3.10/dist-packages (from requests>=2.14->igwn-auth-utils>=0.3.1->gwdatafind->pycbc) (2.0.12)\n",
            "Requirement already satisfied: idna<4,>=2.5 in /usr/local/lib/python3.10/dist-packages (from requests>=2.14->igwn-auth-utils>=0.3.1->gwdatafind->pycbc) (3.4)\n",
            "Collecting PyJWT>=1.6.1 (from scitokens>=1.7.0->igwn-auth-utils>=0.3.1->gwdatafind->pycbc)\n",
            "  Downloading PyJWT-2.7.0-py3-none-any.whl (22 kB)\n",
            "Requirement already satisfied: pycparser in /usr/local/lib/python3.10/dist-packages (from cffi>=1.12->cryptography>=2.3->igwn-auth-utils>=0.3.1->gwdatafind->pycbc) (2.21)\n",
            "Building wheels for collected packages: lscsoft-glue, pegasus-wms.api, python-ligo-lw, ligo-segments, pegasus-wms.common\n",
            "  Building wheel for lscsoft-glue (pyproject.toml) ... \u001b[?25l\u001b[?25hdone\n",
            "  Created wheel for lscsoft-glue: filename=lscsoft_glue-3.0.1-cp310-cp310-linux_x86_64.whl size=263237 sha256=1e1ab09236649a04053a17c81de6141cead78c6687e59569d8b5f4398a18161b\n",
            "  Stored in directory: /root/.cache/pip/wheels/ed/27/c6/e616150ac6c17c01597c9905efc771d8ef22e591346711f08a\n",
            "  Building wheel for pegasus-wms.api (setup.py) ... \u001b[?25l\u001b[?25hdone\n",
            "  Created wheel for pegasus-wms.api: filename=pegasus_wms.api-5.0.5-py3-none-any.whl size=50014 sha256=32516119a5fcbd6b07e1e5ff6033095a6aecb9842b3b3546d0114621f7b9ceeb\n",
            "  Stored in directory: /root/.cache/pip/wheels/bf/58/80/42bde2a3254eb3b7f85577d9e701fa41b538da6a4ef8165852\n",
            "  Building wheel for python-ligo-lw (setup.py) ... \u001b[?25l\u001b[?25hdone\n",
            "  Created wheel for python-ligo-lw: filename=python_ligo_lw-1.8.3-cp310-cp310-linux_x86_64.whl size=166121 sha256=f548edd5ecad2269c1661434eaa1c759857382a7b87a26a687af89168b95bdb9\n",
            "  Stored in directory: /root/.cache/pip/wheels/56/47/e8/75b3e1cf390f9b408944a7914964f73eb932b0cfb739c9ed1d\n",
            "  Building wheel for ligo-segments (setup.py) ... \u001b[?25l\u001b[?25hdone\n",
            "  Created wheel for ligo-segments: filename=ligo_segments-1.4.0-cp310-cp310-linux_x86_64.whl size=101674 sha256=6c199764a64cb2015e04075ab53df9e4415939d38a6293464911d73fc7462a59\n",
            "  Stored in directory: /root/.cache/pip/wheels/6d/48/d1/3466977be4e41ba57f92ad0d5619f083df43cf319a151c4e06\n",
            "  Building wheel for pegasus-wms.common (setup.py) ... \u001b[?25l\u001b[?25hdone\n",
            "  Created wheel for pegasus-wms.common: filename=pegasus_wms.common-5.0.5-py3-none-any.whl size=46238 sha256=158ce7275030e80c9efd767d6154802f998a3d004340bceebf99a0932bfcb1c6\n",
            "  Stored in directory: /root/.cache/pip/wheels/3b/eb/d1/1f2b88f3d4a8187b3f2c0b1797411da3fce5695599d65a4cbc\n",
            "Successfully built lscsoft-glue pegasus-wms.api python-ligo-lw ligo-segments pegasus-wms.common\n",
            "Installing collected packages: ligo-common, safe-netrc, pyRXP, PyJWT, pegasus-wms.common, Mako, ligo-segments, pegasus-wms.api, scitokens, pyOpenSSL, mpld3, lscsoft-glue, igwn-auth-utils, python-ligo-lw, lalsuite, gwdatafind, pycbc\n",
            "Successfully installed Mako-1.2.4 PyJWT-2.7.0 gwdatafind-1.1.3 igwn-auth-utils-0.4.0 lalsuite-7.15 ligo-common-1.0.3 ligo-segments-1.4.0 lscsoft-glue-3.0.1 mpld3-0.5.9 pegasus-wms.api-5.0.5 pegasus-wms.common-5.0.5 pyOpenSSL-23.1.1 pyRXP-3.0.1 pycbc-2.2.0 python-ligo-lw-1.8.3 safe-netrc-1.0.1 scitokens-1.7.4\n"
          ]
        }
      ],
      "source": [
        "!pip install pycbc lalsuite ligo-common"
      ]
    },
    {
      "cell_type": "code",
      "source": [
        "from pycbc import waveform\n",
        "import matplotlib.pyplot as plt\n",
        "import numpy as np\n",
        "import lalsimulation as lalsim \n",
        "import lal \n",
        "import pylab\n",
        "from pycbc.waveform.utils import frequency_from_polarizations\n",
        "from pycbc.waveform.utils import phase_from_polarizations\n",
        "from pycbc.types.timeseries import TimeSeries\n",
        "from pycbc.filter.matchedfilter import match\n",
        "import array"
      ],
      "metadata": {
        "id": "bE0cBbMF9KDD"
      },
      "execution_count": null,
      "outputs": []
    },
    {
      "cell_type": "markdown",
      "source": [
        "Modeling a tidally disrupted dark matter halo: Start an inspiral with an extra halo mass on the neutron star"
      ],
      "metadata": {
        "id": "8agQhTA4MhDX"
      }
    },
    {
      "cell_type": "code",
      "source": [
        "#GW190425 mass parameters \n",
        "m_NS = 1.3 # mass of neutron star in solar mass\n",
        "m_BH = 2.1 # mass of black hole in solar mass\n",
        "\n",
        "#GW200115 mass parameters \n",
        "m_NS2 = 1.44 # mass of neutron star in solar mass\n",
        "m_BH2 = 5.9 # mass of black hole in solar mass\n",
        "\n",
        "G = 6.6743*10**(-11) #in SI units\n",
        "m_sun = 1.9891*10**30 #in kilograms or one solar mass"
      ],
      "metadata": {
        "id": "gshqvOb6Powy"
      },
      "execution_count": null,
      "outputs": []
    },
    {
      "cell_type": "code",
      "source": [
        "# Generate a full inspiral with the  halo mass  stuck on the NS\n",
        "\n",
        "misV = []\n",
        "rlist = np.linspace(30, 300, 10)\n",
        "slist = np.linspace(1, 10, 10)\n",
        "R, S = np.meshgrid(rlist, slist)\n",
        "for r in rlist:\n",
        "    for s in slist:\n",
        "       radsDM = r*10**3 #in KM\n",
        "       massDM = 10**(-s)  #in solar masses  \n",
        "       M_NS = m_sun*(m_NS + massDM) \n",
        "       M_BH = m_BH*m_sun\n",
        "       r_T = radsDM*((M_BH/M_NS)**(1/3)) #tidal radius dark matter \n",
        "       a = r_T #orbital distance is the tidal disruption radius here\n",
        "       period = ((4*(np.pi**2)*(a**3))/(G*(M_BH + M_NS)))**(1/2) #Kepler's thrid law with newtonian correction \n",
        "       frequency = 1/period\n",
        "\n",
        "       hp, hc = waveform.get_td_waveform(\n",
        "       approximant='SEOBNRv4',\n",
        "       mass1=m_BH,\n",
        "       mass2=m_NS+massDM, \n",
        "       distance=290, \n",
        "       f_ref=0, \n",
        "       delta_t=1.0/(16384),\n",
        "        f_lower=20,\n",
        "      )\n",
        "\n",
        "       amplitude = np.sqrt(hp*hp+hc*hc)\n",
        "       freq = frequency_from_polarizations(hp,hc)\n",
        "       swapfreq = 2*frequency\n",
        "       swaparg = np.argmin(abs(freq -swapfreq)) # closest sample to desired frequency\n",
        "       swaptime = hp.sample_times[swaparg]\n",
        "       swapfreq_exact = freq[swaparg]\n",
        "       origphase = np.arctan2(hp.data[swaparg], hc.data[swaparg]) #phase at swap\n",
        "\n",
        "# Generate a full inspiral with the new mass pair (BH)\n",
        "       hp2, hc2 = waveform.get_td_waveform(\n",
        "       approximant='SEOBNRv4',\n",
        "       mass1=m_BH+massDM,\n",
        "       mass2=m_NS, \n",
        "       distance=290, \n",
        "       delta_t=1.0/(16384),\n",
        "       f_lower=swapfreq_exact,\n",
        "       )\n",
        "\n",
        "       freq2 = frequency_from_polarizations(hp2,hc2)\n",
        "       swaparg2 = np.argmin(abs(freq2 - swapfreq)) # closest sample to desired frequency\n",
        "       swaptime2 = hp2.sample_times[swaparg2]\n",
        "       swapfreq_exact2 = freq[swaparg2]\n",
        "       newphase = np.arctan2(hp2.data[swaparg2], hc2.data[swaparg2]) #phase at swap\n",
        "#swaptime - swaptime2\n",
        "\n",
        "       hpalign = (hp2.to_frequencyseries() * np.exp( -(origphase-newphase)*1.0j )).to_timeseries()\n",
        "       hcalign = (hc2.to_frequencyseries() * np.exp( -(origphase-newphase)*1.0j )).to_timeseries()\n",
        "\n",
        "       hpjoined = TimeSeries( np.concatenate([hp.data[:swaparg],hpalign.data[swaparg2+1:]]),delta_t=1.0/(16384)) \n",
        "       hcjoined = TimeSeries( np.concatenate([hc.data[:swaparg],hcalign.data[swaparg2+1:]]),delta_t=1.0/(16384)) \n",
        "\n",
        "# Resize the waveforms to the same length\n",
        "       tlen = max(len(hp), len(hpjoined))\n",
        "       hp.resize(tlen)\n",
        "       hpjoined.resize(tlen)\n",
        "      \n",
        "       m,i = match(hp, hpjoined)\n",
        "       mismatch = 1-m \n",
        "       misV.append(mismatch)  "
      ],
      "metadata": {
        "id": "H0HKyS5B9Rui"
      },
      "execution_count": null,
      "outputs": []
    },
    {
      "cell_type": "code",
      "source": [
        "#creating a function which calls on particular mismatch values with respect to mass and radii parameters\n",
        "def misval(r,s):\n",
        "    return misV[int(r/rlist[0])+int(s/slist[0])-2]\n",
        "\n",
        "#checking parameter outputs with respect to parameter inputs\n",
        "print(rlist[0])\n",
        "print(slist[0])\n",
        "print(misval(rlist[0],slist[0]))"
      ],
      "metadata": {
        "id": "37ZkqQfXcUQc",
        "colab": {
          "base_uri": "https://localhost:8080/"
        },
        "outputId": "22a87585-cf41-4d65-f37c-27b2e0e79cf9"
      },
      "execution_count": null,
      "outputs": [
        {
          "output_type": "stream",
          "name": "stdout",
          "text": [
            "30.0\n",
            "1.0\n",
            "0.0007918863349831717\n"
          ]
        }
      ]
    },
    {
      "cell_type": "code",
      "source": [
        "#checking parameter inputs\n",
        "rlist = np.linspace(30, 300, 10)\n",
        "slist = np.linspace(1, 10, 10)\n",
        "print(rlist)\n",
        "print(slist)\n",
        "print(rlist[0])\n",
        "print(slist[0])"
      ],
      "metadata": {
        "id": "gt1I4S3aU2Nr",
        "colab": {
          "base_uri": "https://localhost:8080/"
        },
        "outputId": "0236b103-c3ce-4770-8ef0-e742dd498f2b"
      },
      "execution_count": null,
      "outputs": [
        {
          "output_type": "stream",
          "name": "stdout",
          "text": [
            "[ 30.  60.  90. 120. 150. 180. 210. 240. 270. 300.]\n",
            "[ 1.  2.  3.  4.  5.  6.  7.  8.  9. 10.]\n",
            "30.0\n",
            "1.0\n"
          ]
        }
      ]
    },
    {
      "cell_type": "code",
      "source": [
        "misval2 = np.vectorize(misval)\n",
        "R, S = np.meshgrid(rlist, slist)\n",
        "M = misval2(R,S)\n",
        "fig,ax=plt.subplots(1,1)\n",
        "cp = ax.contourf(R, S, M)\n",
        "fig.colorbar(cp)\n",
        "ax.set_title('Mismatch for GW190425 with DM Halo')\n",
        "ax.set_xlabel('DM radius (km)')\n",
        "ax.set_ylabel('DM mass(10*(-s)*m_sun)')\n",
        "plt.show()"
      ],
      "metadata": {
        "id": "g_neEMIyeiN_",
        "colab": {
          "base_uri": "https://localhost:8080/",
          "height": 472
        },
        "outputId": "d9a1847d-8545-4822-da1c-ef97e7f2239c"
      },
      "execution_count": null,
      "outputs": [
        {
          "output_type": "display_data",
          "data": {
            "text/plain": [
              "<Figure size 640x480 with 2 Axes>"
            ],
            "image/png": "[encoded data removed]"
          },
          "metadata": {}
        }
      ]
    },
    {
      "cell_type": "markdown",
      "source": [
        "Join the two models together: this is the signature of a halo disruption"
      ],
      "metadata": {
        "id": "8D-Q_OiINrcj"
      }
    }
  ]
}